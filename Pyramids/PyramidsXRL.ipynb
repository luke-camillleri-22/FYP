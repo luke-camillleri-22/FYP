{
 "cells": [
  {
   "cell_type": "code",
   "execution_count": 2,
   "id": "cb4b978a",
   "metadata": {},
   "outputs": [
    {
     "name": "stderr",
     "output_type": "stream",
     "text": [
      "c:\\Users\\Owner\\AppData\\Local\\Programs\\Python\\Python310\\lib\\site-packages\\tqdm\\auto.py:21: TqdmWarning: IProgress not found. Please update jupyter and ipywidgets. See https://ipywidgets.readthedocs.io/en/stable/user_install.html\n",
      "  from .autonotebook import tqdm as notebook_tqdm\n"
     ]
    }
   ],
   "source": [
    "import numpy as np\n",
    "import shap\n",
    "import xgboost as xgb\n",
    "import matplotlib.pyplot as plt\n",
    "import onnxruntime as ort\n",
    "import json"
   ]
  },
  {
   "cell_type": "code",
   "execution_count": 3,
   "id": "d4c0b82e",
   "metadata": {},
   "outputs": [],
   "source": [
    "# === CONFIG ===\n",
    "BIN_PATH = \"AgentObservations.bin\"\n",
    "ONNX_PATH = \"Pyramids2_with_logits.onnx\"\n",
    "OBS_SIZE = 172\n",
    "NUM_ACTIONS = 5\n",
    "ACTIONS_PATH = \"AgentActions.bin\"\n",
    "SHAP_JSON_PATH = \"semantic_shap.json\"\n",
    "\n",
    "# === TAG DEFINITIONS ===\n",
    "TagLabels = [\"Block\", \"Wall\", \"Goal\", \"SwitchOff\", \"SwitchOn\", \"Stone\"]"
   ]
  },
  {
   "cell_type": "code",
   "execution_count": 4,
   "id": "cababaeb",
   "metadata": {},
   "outputs": [
    {
     "name": "stdout",
     "output_type": "stream",
     "text": [
      "Loaded 12696 valid observations\n"
     ]
    }
   ],
   "source": [
    "# === LOAD OBSERVATIONS ===\n",
    "def load_observations(path):\n",
    "    data = np.fromfile(path, dtype=np.float32)\n",
    "    remainder = data.size % OBS_SIZE\n",
    "    if remainder != 0:\n",
    "        print(f\"Trimming {remainder} extra floats\")\n",
    "        data = data[:-remainder]\n",
    "    reshaped = data.reshape(-1, OBS_SIZE)\n",
    "    mask = np.isfinite(reshaped).all(axis=1)\n",
    "    return reshaped[mask]\n",
    "\n",
    "X = load_observations(BIN_PATH)\n",
    "print(f\"Loaded {X.shape[0]} valid observations\")"
   ]
  },
  {
   "cell_type": "code",
   "execution_count": 5,
   "id": "40e10285",
   "metadata": {},
   "outputs": [],
   "source": [
    "# === SEMANTIC GROUPING ===\n",
    "SemanticGroups = {f\"{tag} Detected\": [] for tag in TagLabels}\n",
    "SemanticGroups[\"Misses\"] = []\n",
    "SemanticGroups[\"Proximity\"] = []\n",
    "SemanticGroups[\"SwitchState\"] = [168]\n",
    "SemanticGroups[\"Velocity\"] = [169, 170, 171]\n",
    "\n",
    "for sensor_i in range(3):\n",
    "    for ray_i in range(7):  # 7 rays\n",
    "        base = sensor_i * 56 + ray_i * 8\n",
    "        for tag_i, tag in enumerate(TagLabels):\n",
    "            SemanticGroups[f\"{tag} Detected\"].append(base + tag_i)\n",
    "        SemanticGroups[\"Misses\"].append(base + 6)\n",
    "        SemanticGroups[\"Proximity\"].append(base + 7)\n",
    "\n",
    "group_names = list(SemanticGroups.keys())"
   ]
  },
  {
   "cell_type": "code",
   "execution_count": 6,
   "id": "8faca88a",
   "metadata": {},
   "outputs": [
    {
     "name": "stdout",
     "output_type": "stream",
     "text": [
      "✅ Using logits output: /_discrete_distribution/Softmax_output_0\n"
     ]
    }
   ],
   "source": [
    "# === LOAD MODEL ===\n",
    "session = ort.InferenceSession(ONNX_PATH)\n",
    "output_names = [o.name for o in session.get_outputs()]\n",
    "dummy_input = {\n",
    "    \"obs_0\": np.zeros((1, 56), dtype=np.float32),\n",
    "    \"obs_1\": np.zeros((1, 56), dtype=np.float32),\n",
    "    \"obs_2\": np.zeros((1, 56), dtype=np.float32),\n",
    "    \"obs_3\": np.zeros((1, 4), dtype=np.float32),\n",
    "    \"action_masks\": np.ones((1, NUM_ACTIONS), dtype=np.float32)\n",
    "}\n",
    "outputs = session.run(None, dummy_input)\n",
    "logits_name = [n for n, o in zip(output_names, outputs) if o.shape == (1, NUM_ACTIONS)][0]\n",
    "print(\"✅ Using logits output:\", logits_name)"
   ]
  },
  {
   "cell_type": "code",
   "execution_count": 7,
   "id": "36d1700d",
   "metadata": {},
   "outputs": [
    {
     "name": "stdout",
     "output_type": "stream",
     "text": [
      "✅ Kept 12696 clean observations out of 12696\n"
     ]
    }
   ],
   "source": [
    "# === PREDICTION FUNCTION ===\n",
    "def predict_fn(X_batch):\n",
    "    return session.run([logits_name], {\n",
    "        \"obs_0\": X_batch[:, 0:56],\n",
    "        \"obs_1\": X_batch[:, 56:112],\n",
    "        \"obs_2\": X_batch[:, 112:168],\n",
    "        \"obs_3\": X_batch[:, 168:172],\n",
    "        \"action_masks\": np.ones((X_batch.shape[0], NUM_ACTIONS), dtype=np.float32)\n",
    "    })[0]\n",
    "\n",
    "Y = predict_fn(X)\n",
    "valid_rows = np.isfinite(Y).all(axis=1)\n",
    "X_clean = X[valid_rows]\n",
    "Y_clean = Y[valid_rows]\n",
    "print(f\"✅ Kept {X_clean.shape[0]} clean observations out of {X.shape[0]}\")"
   ]
  },
  {
   "cell_type": "code",
   "execution_count": null,
   "id": "8f91ed8e",
   "metadata": {},
   "outputs": [
    {
     "name": "stdout",
     "output_type": "stream",
     "text": [
      "[1 1 1 1 1 1 1 1 1 1 1 1 1 1 1 1 1 1 1 1 1 1 1 1 1 1 1 1 1 1 1 1 1 1 1 1 1\n",
      " 1 1 1 1 1 1 1 1 1 1 1 1 1 1 1 1 1 1 1 1 1 1 1 1 1 1 1 1 3 3 3 3 3 3 3 3 3\n",
      " 3 3 3 3 3 3 3 3 3 3 3 3 3 3 3 3 3 3 3 3 3 1 1 1 1 1]\n",
      "Actions taken shape: (12696,)\n",
      "Loaded 12696 actions taken\n"
     ]
    }
   ],
   "source": [
    "# === LOAD ACTIONS TAKEN ===\n",
    "actions_taken = np.fromfile(ACTIONS_PATH, dtype=np.int32)\n",
    "actions_taken = actions_taken.reshape(-1, 2)\n",
    "#actions taken is currently in the shape (n, 2) but i want to populate another array with the second index of column 2\n",
    "# so take the second dimension, find index 1 and append it to the new array\n",
    "actions_taken = actions_taken[:, 1]\n",
    "print(f\"Actions taken shape: {actions_taken.shape}\")\n",
    "print(f\"Loaded {actions_taken.shape[0]} actions taken\")\n",
    "if actions_taken.shape[0] != X_clean.shape[0]:\n",
    "    raise ValueError(\"Mismatch between number of actions and observations\")"
   ]
  },
  {
   "cell_type": "code",
   "execution_count": 24,
   "id": "c55eb9cb",
   "metadata": {},
   "outputs": [
    {
     "name": "stdout",
     "output_type": "stream",
     "text": [
      "🎯 Training surrogate for Action 0\n",
      "🎯 Training surrogate for Action 1\n",
      "🎯 Training surrogate for Action 3\n",
      "🎯 Training surrogate for Action 4\n"
     ]
    }
   ],
   "source": [
    "# === SHAP PER ACTION TAKEN ===\n",
    "semantic_shap_per_obs = []\n",
    "\n",
    "for action_index in range(NUM_ACTIONS):\n",
    "    indices = np.where(actions_taken == action_index)[0]\n",
    "    if len(indices) == 0:\n",
    "        continue\n",
    "\n",
    "    print(f\"🎯 Training surrogate for Action {action_index}\")\n",
    "    model = xgb.XGBRegressor(n_estimators=200, max_depth=15)\n",
    "    model.fit(X_clean, Y_clean[:, action_index])\n",
    "\n",
    "    explainer = shap.Explainer(model)\n",
    "    shap_values = explainer(X_clean[indices])\n",
    "\n",
    "    for obs_i, shap_val in zip(indices, shap_values.values):\n",
    "        sem_scores = {}\n",
    "        for group in group_names:\n",
    "            indices_in_group = SemanticGroups[group]\n",
    "            sem_scores[group] = float(np.abs(shap_val[indices_in_group]).mean())\n",
    "\n",
    "        semantic_shap_per_obs.append({\n",
    "            \"observation_index\": int(obs_i),\n",
    "            \"action\": int(action_index),\n",
    "            \"semantic_shap\": sem_scores\n",
    "        })"
   ]
  },
  {
   "cell_type": "code",
   "execution_count": 25,
   "id": "52b5cf7b",
   "metadata": {},
   "outputs": [
    {
     "name": "stdout",
     "output_type": "stream",
     "text": [
      "✅ Saved semantic SHAP values to semantic_shap.json\n"
     ]
    }
   ],
   "source": [
    "# === SAVE JSON ===\n",
    "with open(SHAP_JSON_PATH, \"w\") as f:\n",
    "    json.dump(semantic_shap_per_obs, f, indent=2)\n",
    "\n",
    "print(f\"✅ Saved semantic SHAP values to {SHAP_JSON_PATH}\")"
   ]
  }
 ],
 "metadata": {
  "kernelspec": {
   "display_name": "Python 3",
   "language": "python",
   "name": "python3"
  },
  "language_info": {
   "codemirror_mode": {
    "name": "ipython",
    "version": 3
   },
   "file_extension": ".py",
   "mimetype": "text/x-python",
   "name": "python",
   "nbconvert_exporter": "python",
   "pygments_lexer": "ipython3",
   "version": "3.10.11"
  }
 },
 "nbformat": 4,
 "nbformat_minor": 5
}
