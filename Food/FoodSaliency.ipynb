{
 "cells": [
  {
   "cell_type": "code",
   "execution_count": 1,
   "id": "b7322c91",
   "metadata": {},
   "outputs": [
    {
     "name": "stderr",
     "output_type": "stream",
     "text": [
      "c:\\Users\\Owner\\AppData\\Local\\Programs\\Python\\Python310\\lib\\site-packages\\tqdm\\auto.py:21: TqdmWarning: IProgress not found. Please update jupyter and ipywidgets. See https://ipywidgets.readthedocs.io/en/stable/user_install.html\n",
      "  from .autonotebook import tqdm as notebook_tqdm\n"
     ]
    }
   ],
   "source": [
    "import onnx\n",
    "import torch\n",
    "import numpy as np\n",
    "import matplotlib.pyplot as plt\n",
    "from onnx2pytorch import ConvertModel\n",
    "from tqdm import tqdm"
   ]
  },
  {
   "cell_type": "code",
   "execution_count": 2,
   "id": "d850d8ca",
   "metadata": {},
   "outputs": [
    {
     "name": "stderr",
     "output_type": "stream",
     "text": [
      "c:\\Users\\Owner\\AppData\\Local\\Programs\\Python\\Python310\\lib\\site-packages\\onnx2pytorch\\convert\\layer.py:30: UserWarning: The given NumPy array is not writable, and PyTorch does not support non-writable tensors. This means writing to this tensor will result in undefined behavior. You may want to copy the array to protect its data or make it writable before converting it to a tensor. This type of warning will be suppressed for the rest of this program. (Triggered internally at ..\\torch\\csrc\\utils\\tensor_numpy.cpp:212.)\n",
      "  layer.weight.data = torch.from_numpy(numpy_helper.to_array(weight))\n"
     ]
    },
    {
     "data": {
      "text/plain": [
       "ConvertModel(\n",
       "  (Conv_/network_body/observation_encoder/processors.0/conv_layers/conv_layers.0/Conv_output_0): Conv2d(5, 16, kernel_size=(8, 8), stride=(4, 4))\n",
       "  (LeakyRelu_/network_body/observation_encoder/processors.0/conv_layers/conv_layers.1/LeakyRelu_output_0): LeakyReLU(negative_slope=0.009999999776482582, inplace=True)\n",
       "  (Conv_/network_body/observation_encoder/processors.0/conv_layers/conv_layers.2/Conv_output_0): Conv2d(16, 32, kernel_size=(4, 4), stride=(2, 2))\n",
       "  (LeakyRelu_/network_body/observation_encoder/processors.0/conv_layers/conv_layers.3/LeakyRelu_output_0): LeakyReLU(negative_slope=0.009999999776482582, inplace=True)\n",
       "  (Constant_/network_body/observation_encoder/processors.0/Constant_output_0): Constant(constant=tensor([ -1, 288]))\n",
       "  (Reshape_/network_body/observation_encoder/processors.0/Reshape_output_0): Reshape(shape=None)\n",
       "  (Gemm_/network_body/observation_encoder/processors.0/dense/dense.0/Gemm_output_0): Linear(in_features=288, out_features=256, bias=True)\n",
       "  (LeakyRelu_/network_body/observation_encoder/processors.0/dense/dense.1/LeakyRelu_output_0): LeakyReLU(negative_slope=0.009999999776482582, inplace=True)\n",
       "  (Gemm_/network_body/_body_endoder/seq_layers/seq_layers.0/Gemm_output_0): Linear(in_features=256, out_features=256, bias=True)\n",
       "  (Sigmoid_/network_body/_body_endoder/seq_layers/seq_layers.1/Sigmoid_output_0): Sigmoid()\n",
       "  (Mul_/network_body/_body_endoder/seq_layers/seq_layers.1/Mul_output_0): sub()\n",
       "  (Gemm_/network_body/_body_endoder/seq_layers/seq_layers.2/Gemm_output_0): Linear(in_features=256, out_features=256, bias=True)\n",
       "  (Sigmoid_/network_body/_body_endoder/seq_layers/seq_layers.3/Sigmoid_output_0): Sigmoid()\n",
       "  (Mul_/network_body/_body_endoder/seq_layers/seq_layers.3/Mul_output_0): sub()\n",
       "  (Gemm_/network_body/_body_endoder/seq_layers/seq_layers.4/Gemm_output_0): Linear(in_features=256, out_features=256, bias=True)\n",
       "  (Sigmoid_/network_body/_body_endoder/seq_layers/seq_layers.5/Sigmoid_output_0): Sigmoid()\n",
       "  (Mul_/network_body/_body_endoder/seq_layers/seq_layers.5/Mul_output_0): sub()\n",
       "  (Gemm_/_continuous_distribution/mu/Gemm_output_0): Linear(in_features=256, out_features=3, bias=True)\n",
       "  (Slice_/_discrete_distribution/Slice_output_0): Slice()\n",
       "  (Gemm_/_discrete_distribution/branches.0/Gemm_output_0): Linear(in_features=256, out_features=2, bias=True)\n",
       "  (Constant_/_discrete_distribution/Constant_output_0): Constant(constant=-1.0)\n",
       "  (Mul_/_discrete_distribution/Mul_output_0): sub()\n",
       "  (Constant_/_discrete_distribution/Constant_1_output_0): Constant(constant=1.0)\n",
       "  (Add_/_discrete_distribution/Add_output_0): Add()\n",
       "  (Mul_/_discrete_distribution/Mul_1_output_0): sub()\n",
       "  (Constant_/_discrete_distribution/Constant_2_output_0): Constant(constant=100000000.0)\n",
       "  (Mul_/_discrete_distribution/Mul_2_output_0): sub()\n",
       "  (Sub_/_discrete_distribution/Sub_output_0): sub()\n",
       "  (Softmax_/_discrete_distribution/Softmax_output_0): Softmax(dim=1)\n",
       "  (Clip_/Clip_1_output_0): Clip()\n",
       "  (Constant_/Constant_1_output_0): Constant(constant=3.0)\n",
       "  (Div_deterministic_continuous_actions): Div()\n",
       ")"
      ]
     },
     "execution_count": 2,
     "metadata": {},
     "output_type": "execute_result"
    }
   ],
   "source": [
    "# === Load ONNX model ===\n",
    "onnx_model_path = \"pruned_model.onnx\"  # <-- Replace with your path\n",
    "onnx_model = onnx.load(onnx_model_path)\n",
    "\n",
    "# === Convert to PyTorch ===\n",
    "pytorch_model = ConvertModel(onnx_model)\n",
    "pytorch_model.eval()"
   ]
  },
  {
   "cell_type": "code",
   "execution_count": 3,
   "id": "9d51fee2",
   "metadata": {},
   "outputs": [],
   "source": [
    "# === Load and prepare a sample observation ===\n",
    "# === Load raw binary file ===\n",
    "bin_path = \"foodAgentObs.bin\"  # replace with your path\n",
    "flat_obs = np.fromfile(bin_path, dtype=np.float32)\n",
    "\n",
    "# Each observation is 8000 floats = 40 x 40 x 5\n",
    "obs_count = flat_obs.shape[0] // 8000\n",
    "obs_array = flat_obs.reshape((obs_count, 40, 40, 5))  # NHWC (Unity-style)\n",
    "action_masks = torch.tensor([[1.0, 1.0]], dtype=torch.float32)\n",
    "\n",
    "# Convert to PyTorch-style NCHW\n",
    "obs_array = np.transpose(obs_array, (0, 3, 1, 2))  # → (N, 5, 40, 40)\n",
    "\n",
    "saliency_shoot = np.zeros((5, 40, 40))\n",
    "saliency_noshoot = np.zeros((5, 40, 40))\n",
    "saliency_forward = np.zeros((5, 40, 40))\n",
    "saliency_strafe = np.zeros((5, 40, 40))\n",
    "saliency_turn = np.zeros((5, 40, 40))\n",
    "count_shoot = 0\n",
    "count_noshoot = 0\n",
    "count_forward = 0\n",
    "count_strafe = 0\n",
    "count_turn = 0"
   ]
  },
  {
   "cell_type": "code",
   "execution_count": 4,
   "id": "e52e4fcf",
   "metadata": {},
   "outputs": [
    {
     "name": "stderr",
     "output_type": "stream",
     "text": [
      "100%|██████████| 34950/34950 [01:43<00:00, 338.98it/s]\n"
     ]
    }
   ],
   "source": [
    "for i in tqdm(range(obs_count)):\n",
    "    shoot_idx = None\n",
    "    movement_idx = None\n",
    "\n",
    "    obs = obs_array[i]\n",
    "    obs_tensor = torch.tensor(obs, dtype=torch.float32).unsqueeze(0)\n",
    "    obs_tensor.requires_grad = True\n",
    "\n",
    "    inputs = {\"obs_0\": obs_tensor, \"action_masks\": action_masks}\n",
    "    output = pytorch_model(**inputs)\n",
    "\n",
    "    continuous_logits = output[0]  # continuous\n",
    "    discrete_logits = output[1]  # discrete\n",
    "    shoot_idx = discrete_logits.argmax().item()\n",
    "    movement_idx = continuous_logits.argmax().item()\n",
    "\n",
    "    discrete_logits[0, shoot_idx].backward(retain_graph=True)\n",
    "    continuous_logits[0, movement_idx].backward()\n",
    "    saliency = obs_tensor.grad.abs().squeeze().numpy()\n",
    "\n",
    "    if shoot_idx != None:\n",
    "        if shoot_idx == 0:\n",
    "            saliency_noshoot += saliency\n",
    "            count_noshoot += 1\n",
    "        else:\n",
    "            saliency_shoot += saliency\n",
    "            count_shoot += 1\n",
    "    if movement_idx != None:\n",
    "        if movement_idx == 0:\n",
    "            saliency_forward += saliency\n",
    "            count_forward += 1\n",
    "        elif movement_idx == 1:\n",
    "            saliency_strafe += saliency\n",
    "            count_strafe += 1\n",
    "        elif movement_idx == 2:\n",
    "            saliency_turn += saliency\n",
    "            count_turn += 1\n",
    "\n",
    "    obs_tensor.grad = None \n",
    "\n",
    "\n"
   ]
  },
  {
   "cell_type": "code",
   "execution_count": 5,
   "id": "938f7e51",
   "metadata": {},
   "outputs": [],
   "source": [
    "avg_shoot = saliency_shoot / (count_shoot + 1e-8)\n",
    "avg_noshoot = saliency_noshoot / (count_noshoot + 1e-8)\n",
    "avg_forward = saliency_forward / (count_forward + 1e-8)\n",
    "avg_strafe = saliency_strafe / (count_strafe + 1e-8)\n",
    "avg_turn = saliency_turn / (count_turn + 1e-8)\n"
   ]
  },
  {
   "cell_type": "code",
   "execution_count": 6,
   "id": "86067a2e",
   "metadata": {},
   "outputs": [],
   "source": [
    "channels = ['Food','Agent','Wall','Bad Food','Frozen Agent']\n",
    "\n",
    "for i in range(5):\n",
    "    fig, axs = plt.subplots(2, 1, figsize=(5, 6))  # One column: No Shoot (top), Shoot (bottom)\n",
    "\n",
    "    axs[0].imshow(avg_noshoot[i], cmap='Reds', interpolation='nearest')\n",
    "    axs[0].set_title(f\"No Shoot: {channels[i]} Detected\")\n",
    "    axs[0].axis('off')\n",
    "\n",
    "    axs[1].imshow(avg_shoot[i], cmap='Reds', interpolation='nearest')\n",
    "    axs[1].set_title(f\"Shoot: {channels[i]} Detected\")\n",
    "    axs[1].axis('off')\n",
    "\n",
    "    plt.savefig(f\"Discrete_saliency_comparison_channel_{i}.png\", dpi=300, bbox_inches='tight', pad_inches=0.25)\n",
    "    plt.close()\n",
    "\n",
    "for i in range(5):\n",
    "    fig, axs = plt.subplots(3, 1, figsize=(5, 9))  # One column: Forward (top), Strafe (middle), Turn (bottom)\n",
    "\n",
    "    axs[0].imshow(avg_forward[i], cmap='Reds', interpolation='nearest')\n",
    "    axs[0].set_title(f\"Forward: {channels[i]} Detected\")\n",
    "    axs[0].axis('off')\n",
    "\n",
    "    axs[1].imshow(avg_strafe[i], cmap='Reds', interpolation='nearest')\n",
    "    axs[1].set_title(f\"Strafe: {channels[i]} Detected\")\n",
    "    axs[1].axis('off')\n",
    "\n",
    "    axs[2].imshow(avg_turn[i], cmap='Reds', interpolation='nearest')\n",
    "    axs[2].set_title(f\"Turn: {channels[i]} Detected\")\n",
    "    axs[2].axis('off')\n",
    "\n",
    "    plt.savefig(f\"Continuous_saliency_comparison_channel_{i}.png\", dpi=300, bbox_inches='tight', pad_inches=0.25)\n",
    "    plt.close()"
   ]
  }
 ],
 "metadata": {
  "kernelspec": {
   "display_name": "Python 3",
   "language": "python",
   "name": "python3"
  },
  "language_info": {
   "codemirror_mode": {
    "name": "ipython",
    "version": 3
   },
   "file_extension": ".py",
   "mimetype": "text/x-python",
   "name": "python",
   "nbconvert_exporter": "python",
   "pygments_lexer": "ipython3",
   "version": "3.10.11"
  }
 },
 "nbformat": 4,
 "nbformat_minor": 5
}
